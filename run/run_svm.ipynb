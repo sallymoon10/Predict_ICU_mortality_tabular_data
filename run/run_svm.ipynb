{
 "metadata": {
  "language_info": {
   "codemirror_mode": {
    "name": "ipython",
    "version": 3
   },
   "file_extension": ".py",
   "mimetype": "text/x-python",
   "name": "python",
   "nbconvert_exporter": "python",
   "pygments_lexer": "ipython3",
   "version": "3.7.4-final"
  },
  "orig_nbformat": 2,
  "kernelspec": {
   "name": "python3",
   "display_name": "Python 3"
  }
 },
 "nbformat": 4,
 "nbformat_minor": 2,
 "cells": [
  {
   "cell_type": "markdown",
   "metadata": {},
   "source": [
    "# SVM model with tabular data\n",
    "\n",
    "\n",
    "https://monkeylearn.com/blog/introduction-to-support-vector-machines-svm/#:~:text=A%20support%20vector%20machine%20(SVM,able%20to%20categorize%20new%20text.\n",
    "\n",
    "- binary classification algorithm, supervised learning\n",
    "- calculates best decision boundary (eg. hyperplane) between data with different labels\n",
    "- linear classifier = can only separate linearly separable data\n",
    "- good for small datasets\n",
    "\n",
    "Working with non-linear data:\n",
    "- uses kernel trick: apply a kernel function (eg. dot product of feature vectors). work in the original feature space without computing the coordinates of data in a higher dimension. Its a more efficient way to transform data into a higher dimension where data is more linearly separable.\n",
    "- This is more cost efficient than manually mapping data to a higher dimension (might require lots of dimensions to be added, complex calculations)\n",
    "\n"
   ]
  },
  {
   "cell_type": "markdown",
   "metadata": {},
   "source": [
    "## A. Set up"
   ]
  },
  {
   "cell_type": "markdown",
   "metadata": {},
   "source": [
    "### A.1 Loading dataset "
   ]
  },
  {
   "cell_type": "code",
   "execution_count": 14,
   "metadata": {},
   "outputs": [],
   "source": [
    "import numpy as np\n",
    "import pandas as pd\n",
    "\n",
    "df = pd.read_csv('../examples/adult_icu.csv')\n",
    "# df.head()"
   ]
  },
  {
   "cell_type": "markdown",
   "metadata": {},
   "source": [
    "### A.3 Loading variables"
   ]
  },
  {
   "cell_type": "code",
   "execution_count": 2,
   "metadata": {},
   "outputs": [],
   "source": [
    "non_feature_cols = ['subject_id', 'hadm_id', 'icustay_id', 'train', 'mort_icu', 'adult_icu', 'chartext']\n",
    "feature_cols = np.asarray(df.columns)\n",
    "feature_cols = [feature for feature in feature_cols if feature not in non_feature_cols] # all feature columsn\n",
    "\n",
    "label_col = \"mort_icu\"\n"
   ]
  },
  {
   "cell_type": "markdown",
   "metadata": {},
   "source": [
    "## B. Data Splits"
   ]
  },
  {
   "cell_type": "code",
   "execution_count": 3,
   "metadata": {
    "tags": []
   },
   "outputs": [
    {
     "output_type": "stream",
     "name": "stdout",
     "text": "Train= x: (18323, 62) , y: (18323,)\nTest= x: (9025, 62) , y: (18323,)\n"
    }
   ],
   "source": [
    "from sklearn.model_selection import train_test_split\n",
    "\n",
    "# get train test split by index value\n",
    "idx_train, idx_test, y_train, y_test = train_test_split(df.index, df[label_col].values, test_size=0.33,random_state=109)\n",
    "\n",
    "# get train and test df\n",
    "train_df = df.iloc[idx_train]\n",
    "test_df = df.iloc[idx_test]\n",
    "\n",
    "print(\"Train= x: \" + str(train_df.shape) + \" , y: \" + str(y_train.shape))\n",
    "print(\"Test= x: \" + str(test_df.shape) + \" , y: \" + str(y_train.shape))"
   ]
  },
  {
   "cell_type": "markdown",
   "metadata": {},
   "source": [
    "## C. Data Processing\n",
    "\n",
    "https://towardsdatascience.com/feature-engineering-for-machine-learning-3a5e293a5114\n",
    "\n",
    "Things to consider:\n",
    "- data imputation / missing values\n",
    "- Handling outliers\n",
    "    - detect and remove\n",
    "    - detect and capp \n",
    "- Log transform:\n",
    "    - helps to handle skewed data and after transformation, the distribution becomes more approximate to normal.\n",
    "    - In most of the cases the magnitude order of the data changes within the range of the data. For instance, the difference between ages 15 and 20 is not equal to the ages 65 and 70. In terms of years, yes, they are identical, but for all other aspects, 5 years of difference in young ages mean a higher magnitude difference. This type of data comes from a multiplicative process and log transform normalizes the magnitude differences like that.\n",
    "    - It also decreases the effect of the outliers, due to the normalization of magnitude differences and the model become more robust.\n",
    "    - NOTE: The data you apply log transform must have only positive values, otherwise you receive an error. Also, you can add 1 to your data before transform it. Thus, you ensure the output of the transformation to be positive.\n",
    "- One-hot-encoding:\n",
    "    - This method changes your categorical data, which is challenging to understand for algorithms, to a numerical format and enables you to group your categorical data without losing any information.\n",
    "- scaling:\n",
    "    - makes sure different scales don't affect model"
   ]
  },
  {
   "cell_type": "markdown",
   "metadata": {},
   "source": [
    "### C.1 Feature scaling (normalizing / standardizing)\n",
    "\n",
    "SVM:\n",
    "- Recommend standardizing (from 0,1) because feature scales influence the optimal hyperplane\n",
    "\n",
    "https://machinelearningmastery.com/normalize-standardize-time-series-data-python/\n",
    "https://www.analyticsvidhya.com/blog/2020/04/feature-scaling-machine-learning-normalization-standardization/\n",
    "\n",
    "Scaling features:\n",
    "- purpose: Having features on a similar scale can help the gradient descent converge more quickly towards the minima.\n",
    "- distance based algorithms: we scale our data before employing a distance based algorithm so that all the features contribute equally to the result. \n",
    "\n",
    "Normalization: numbers scaled from 0 to 1 --> can use sk learn MinMaxScaler\n",
    "- Normalization is good to use when you know that the distribution of your data does not follow a Gaussian distribution. This can be useful in algorithms that do not assume any distribution of the data like K-Nearest Neighbors and Neural Networks.\n",
    "\n",
    "Standardizing: rescaling the distribution of values so that the mean of observed values is 0 and the standard deviation is 1.\n",
    "- Standardization, on the other hand, can be helpful in cases where the data follows a Gaussian distribution. However, this does not have to be necessarily true. Also, unlike normalization, standardization does not have a bounding range. So, even if you have outliers in your data, they will not be affected by standardization.\n",
    "\n",
    "- However, at the end of the day, the choice of using normalization or standardization will depend on your problem and the machine learning algorithm you are using. There is no hard and fast rule to tell you when to normalize or standardize your data. You can always start by fitting your model to raw, normalized and standardized data and compare the performance for best results.\n",
    "\n",
    "\n",
    "Types of scalers:\n",
    "https://scikit-learn.org/stable/auto_examples/preprocessing/plot_all_scaling.html\n",
    "- StandardScaler: removes the mean and scales the data to unit variance\n",
    "    - outliers have an influence when computing the empirical mean and standard deviation which shrink the range of the feature values\n",
    "    - cannot guarantee balanced feature scales in the presence of outliers\n",
    "- minmax scaler: normalizing to [0,1], sensitive to outliers\n",
    "- maxabs scaler: absolute values scaled to [0,1], sensitive to outliers\n",
    "- robust scaler: the centering and scaling statistics based on percentiles\n",
    "    - not influenced by a few number of very large marginal outliers. \n",
    "    - resulting range of the transformed feature values is larger and are approximately similar. \n",
    "    - Outliers themselves are still present in the transformed data\n",
    "- power transformer: applies a power transformation to each feature to make the data more Gaussian-like. \n",
    "    - Currently, PowerTransformer implements the Yeo-Johnson and Box-Cox transforms\n",
    "    -  finds the optimal scaling factor to stabilize variance and mimimize skewness through maximum likelihood estimation\n",
    "\n",
    "- QuantileTransformer: \n",
    "    - has an additional output_distribution parameter allowing to match a Gaussian distribution instead of a uniform distribution. Note that this non-parametetric transformer introduces saturation artifacts for extreme values\n",
    "    - also can apply a non-linear transformation such that the probability density function of each feature will be mapped to a uniform distribution. In this case, all the data will be mapped in the range [0, 1], even the outliers which cannot be distinguished anymore from the inliers\n",
    "    - robust to outliers in the sense that adding or removing outliers in the training set will yield approximately the same transformation on held out data. But contrary to RobustScaler, QuantileTransformer will also automatically collapse any outlier by setting them to the a priori defined range boundaries (0 and 1).\n",
    "\n",
    "- normalizer:\n",
    "    - rescales the vector for each sample to have unit norm, independently of the distribution of the samples\n"
   ]
  },
  {
   "cell_type": "code",
   "execution_count": 4,
   "metadata": {},
   "outputs": [],
   "source": [
    "from sklearn.preprocessing import MinMaxScaler\n",
    "from sklearn.preprocessing import minmax_scale\n",
    "from sklearn.preprocessing import MaxAbsScaler\n",
    "from sklearn.preprocessing import StandardScaler\n",
    "from sklearn.preprocessing import RobustScaler\n",
    "from sklearn.preprocessing import Normalizer\n",
    "from sklearn.preprocessing import QuantileTransformer\n",
    "from sklearn.preprocessing import PowerTransformer\n",
    "\n",
    "def fit_scaler(train_df, features_list: list, scale_type: str):\n",
    "    \"\"\"\n",
    "    Fit scaler on train data\n",
    "    inputs:\n",
    "    - train_df: dataframe of x train data\n",
    "    - features_list: list of features to be scaled\n",
    "    - scale_type: type of scale to use (ie. standardize, normalize)\n",
    "\n",
    "    scalers takes input (num_samples, num_features) and scales all features\n",
    "    \"\"\"\n",
    "    scaler_dict = {\n",
    "        \"standard\" : StandardScaler(), \n",
    "        \"minmax\" : MinMaxScaler(feature_range=(0, 1)) , \n",
    "        \"maxabs\" : MaxAbsScaler(), \n",
    "        \"robust\": RobustScaler(quantile_range=(25, 75)),\n",
    "        \"power_yeo_johnson\": PowerTransformer(method='yeo-johnson'),\n",
    "        \"power_box_cox\" : PowerTransformer(method='box-cox'),\n",
    "        \"quartile_normal\":  QuantileTransformer(output_distribution='normal'),\n",
    "        \"quartile_uniform\": QuantileTransformer(output_distribution='uniform'),\n",
    "        \"normalizer\": Normalizer()\n",
    "    }\n",
    "    \n",
    "    scaler = scaler_dict[scale_type].fit(train_df[features_list])\n",
    "\n",
    "    return scaler\n"
   ]
  },
  {
   "cell_type": "code",
   "execution_count": 5,
   "metadata": {
    "tags": []
   },
   "outputs": [
    {
     "output_type": "stream",
     "name": "stdout",
     "text": "Non binary features that are standardized: ['age', 'heartrate_min', 'heartrate_max', 'heartrate_mean', 'sysbp_min', 'sysbp_max', 'sysbp_mean', 'diasbp_min', 'diasbp_max', 'diasbp_mean', 'meanbp_min', 'meanbp_max', 'meanbp_mean', 'resprate_min', 'resprate_max', 'resprate_mean', 'tempc_min', 'tempc_max', 'tempc_mean', 'spo2_min', 'spo2_max', 'spo2_mean', 'glucose_min', 'glucose_max', 'glucose_mean', 'aniongap', 'albumin', 'bicarbonate', 'bilirubin', 'creatinine', 'chloride', 'glucose', 'hematocrit', 'hemoglobin', 'lactate', 'magnesium', 'phosphate', 'platelet', 'potassium', 'ptt', 'inr', 'pt', 'sodium', 'bun', 'wbc']\n"
    }
   ],
   "source": [
    "from sklearn.preprocessing import StandardScaler\n",
    "\n",
    "# All non-binary features need to be standardized\n",
    "binary_features = ['subject_id', 'hadm_id', 'icustay_id', 'mort_icu', 'first_icu_stay', 'first_hosp_stay', 'adult_icu', 'eth_asian', 'eth_black', 'eth_hispanic', 'eth_other','eth_white', 'admType_ELECTIVE', 'admType_EMERGENCY', 'admType_NEWBORN', 'admType_URGENT', 'admType_ELECTIVE', 'train', 'chartext']\n",
    "\n",
    "# Get all feature columns that are non-binary\n",
    "nonbinary_features = [feature for feature in feature_cols if feature not in binary_features]\n",
    "print(\"Non binary features that are standardized: \" + str(nonbinary_features))\n",
    "\n",
    "# Fit the standardized scaler on the TRAIN data\n",
    "scaler = fit_scaler(train_df, nonbinary_features, \"standard\")\n",
    "\n",
    "# Tranform both TRAIN and TEST data on the scaler fitted on TRAIN data\n",
    "train_df[nonbinary_features] = scaler.transform(train_df[nonbinary_features])\n",
    "test_df[nonbinary_features] = scaler.transform(test_df[nonbinary_features])\n",
    "\n",
    "# train_df.head()"
   ]
  },
  {
   "cell_type": "markdown",
   "metadata": {},
   "source": [
    "### C.2 Obtain X_TRAIN, Y_TRAIN, X_TEST, Y_TEST"
   ]
  },
  {
   "cell_type": "code",
   "execution_count": 6,
   "metadata": {
    "tags": []
   },
   "outputs": [
    {
     "output_type": "stream",
     "name": "stdout",
     "text": "x train: (18323, 56)\ny train: (18323,)\nx train: (9025, 56)\ny train: (9025,)\n"
    }
   ],
   "source": [
    "# identify feature columns\n",
    "label_col = \"mort_icu\"\n",
    "non_feature_cols = ['subject_id', 'hadm_id', 'icustay_id', 'train', 'mort_icu', 'adult_icu', 'chartext']\n",
    "feature_cols = np.asarray(df.columns)\n",
    "feature_cols = [feature for feature in feature_cols if feature not in non_feature_cols] # all feature columsn\n",
    "num_features = len(feature_cols)\n",
    "\n",
    "# x_train, y_train\n",
    "num_train = len(train_df)\n",
    "x_train = train_df[feature_cols].values.reshape(num_train, num_features)\n",
    "y_train = train_df[label_col].values.reshape(num_train,)\n",
    "\n",
    "print(\"x train: \" + str(x_train.shape))\n",
    "print(\"y train: \" + str(y_train.shape))\n",
    "\n",
    "# x_test, y_test\n",
    "num_test= len(test_df)\n",
    "x_test = test_df[feature_cols].values.reshape(num_test, num_features)\n",
    "y_test = test_df[label_col].values.reshape(num_test,)\n",
    "\n",
    "print(\"x train: \" + str(x_test.shape))\n",
    "print(\"y train: \" + str(y_test.shape))"
   ]
  },
  {
   "cell_type": "markdown",
   "metadata": {},
   "source": [
    "## D. SVM"
   ]
  },
  {
   "cell_type": "markdown",
   "metadata": {},
   "source": [
    "### D.1 Kernel function:\n",
    "\n",
    "Kernel trick:\n",
    "https://medium.com/@zxr.nju/what-is-the-kernel-trick-why-is-it-important-98a98db0961d\n",
    "- allows you to operate in the original feature space without computing the coordinates of the data in a higher dimensional space.\n",
    "- can be applied to any linear classifier\n",
    "- offer a more efficient and less expensive way to transform data into higher dimensions\n",
    "\n",
    "Types of kernel functions:\n",
    "\n",
    "https://data-flair.training/blogs/svm-kernel-functions/#:~:text=The%20function%20of%20kernel%20is,(RBF)%2C%20and%20sigmoid.\n",
    "\n",
    "http://crsouza.com/2010/03/17/kernel-functions-for-machine-learning-applications/\n",
    "\n",
    "\n",
    "- linear kernel:\n",
    "    - inner product + optional constant\n",
    "    - like standard PCA \n",
    "\n",
    "- polynomial kernel: \n",
    "    - non-stationary kernel\n",
    "    - good for normalized data\n",
    "    - popular in image processing\n",
    "\n",
    "- gaussian radial basis function kernel:\n",
    "    - There is an infinite number of dimensions in the feature space because it can be expanded by the Taylor Series.\n",
    "    - general purpose, good when you have no prior knowledge about data\n",
    "    - sigma (adjustable parameter) needs to be carefully tuned to problem. \n",
    "        - if overestimated, function will behave linearly (ie. lose non-linear power). \n",
    "        - if underestimated, function will lack regularitzation and decision boundary will be highly sensity to noise (ie. overfitted)\n",
    "\n",
    "- inverse multiquadric kernel:\n",
    "    - results in kernel matrix with full rank --> forms infinite dimension feature space\n",
    "\n",
    "- exponential radial basis function kernel:\n",
    "    - similar to gaussian kernel, without the square of norm\n",
    "    - sigma (adjustable parameter) needs to be carefully tuned to problem. \n",
    "        - if overestimated, function will behave linearly (ie. lose non-linear power). \n",
    "        - if underestimated, function will lack regularitzation and decision boundary will be highly sensity to noise (ie. overfitted)\n",
    "\n",
    "- laplace radial basis function kernel: \n",
    "    - general purpose, good when you have no prior knowledge about data\n",
    "    - same as exponential rbf, but less sensitive to changes in sigma parameter\n",
    "    - sigma (adjustable parameter) needs to be carefully tuned to problem. \n",
    "        - if overestimated, function will behave linearly (ie. lose non-linear power). \n",
    "        - if underestimated, function will lack regularitzation and decision boundary will be highly sensity to noise (ie. overfitted)\n",
    "\n",
    "- ANOVA radial basis function kernel:\n",
    "    - perform well on multidimensional regression problems \n",
    "\n",
    "- hyperbolic tangent (sigmoid / MLP) kernal:\n",
    "    - comes from neural network field (bipolar sigmoid function often used as activation function)\n",
    "    - SVM usign sigmoid kernal is the same as 2 layer perceptron network \n",
    "    - performs well in practise for SVM\n",
    "\n",
    "- Rational quadratic kernel or multiquadric kernel:\n",
    "    - can replace gaussian rbf kernel because its less computationally expensive\n",
    "\n",
    "- cauchy kernel:\n",
    "    - give long-range influence and sensitivity over high dimension space\n",
    "    - long-tailed kernel\n",
    "\n",
    "- circular kernel or spherical kernel:\n",
    "    - used in geostatic application\n",
    "\n",
    "- power kernel:\n",
    "    - scale-invariant kernel\n",
    "    - unrectified triangular kernel\n",
    "\n",
    "- log kernel:\n",
    "    - interesting for images\n",
    "\n",
    "\n",
    "Cons of kernel trick:\n",
    "- higher dimension --> increased chance of overfitting. therefore choosing the right kernel function and the right regulation method is key"
   ]
  },
  {
   "cell_type": "markdown",
   "metadata": {},
   "source": [
    "### D.2 Hyperparameter tuning \n",
    "https://towardsdatascience.com/a-guide-to-svm-parameter-tuning-8bfe6b8a452c\n",
    "\n",
    "C: penalty parameter\n",
    "- tells algorithm how much you care about misclassified points\n",
    "    - high: penalize misclassified more - more accurate to current data but could overfit\n",
    "    - low: penalize misclassfied less - less accurate to current data but more generalizable\n",
    "\n",
    "gamma: spread of kernel / decision region\n",
    "    - low = curve of decision boundary is low (like a linear boundary)\n",
    "    - high = curve of devision boundary is high (can overfit)\n",
    "\n",
    "https://ogrisel.github.io/scikit-learn.org/sklearn-tutorial/auto_examples/svm/plot_svm_parameters_selection.html\n",
    "\n",
    "Stratified K-Fold crossvalidation:\n",
    "- to set hyperparameters (C, gamma)\n",
    "- strafied = ensures that there are equal number of data from each label\n",
    "- k = N : leave one out validation (predict on one sample)\n",
    "- k = usually 5 or 10, but no formal rule\n",
    "    - k gets larger = difference in size between training set and resampling subset gets smaller = bias decreases\n",
    "    - 10 is good place to start\n"
   ]
  },
  {
   "cell_type": "code",
   "execution_count": 7,
   "metadata": {
    "tags": []
   },
   "outputs": [],
   "source": [
    "from sklearn.model_selection import StratifiedKFold\n",
    "from sklearn.model_selection import GridSearchCV\n",
    "\n",
    "def report_best_params(x_train: np.array, y_train: np.array, params: dict, estimator, n_splits: int):\n",
    "    \"\"\"\n",
    "    x_train: np array of train data\n",
    "    y_train: np array of train data labels\n",
    "    params: range of parameters to test\n",
    "    estimator: type of model\n",
    "    n_splits: number of splits for cv validation\n",
    "    \"\"\"\n",
    "\n",
    "    grid = GridSearchCV(estimator=estimator, param_grid=params, refit = True, cv= StratifiedKFold(n_splits=n_splits))\n",
    "    grid.fit(x_train, y_train)\n",
    "\n",
    "    print(\"The best classifier is: \", grid.best_estimator_)\n",
    "\n",
    "    print(\"The best parameters are: \" + str(grid.best_params_))"
   ]
  },
  {
   "cell_type": "code",
   "execution_count": 8,
   "metadata": {
    "tags": []
   },
   "outputs": [
    {
     "output_type": "stream",
     "name": "stdout",
     "text": "The best classifier is:  SVC(C=0.1, cache_size=200, class_weight=None, coef0=0.0,\n    decision_function_shape='ovr', degree=3, gamma=0.1, kernel='rbf',\n    max_iter=-1, probability=False, random_state=None, shrinking=True,\n    tol=0.001, verbose=False)\n"
    },
    {
     "output_type": "error",
     "ename": "TypeError",
     "evalue": "can only concatenate str (not \"dict\") to str",
     "traceback": [
      "\u001b[0;31m---------------------------------------------------------------------------\u001b[0m",
      "\u001b[0;31mTypeError\u001b[0m                                 Traceback (most recent call last)",
      "\u001b[0;32m<ipython-input-8-7f03c8ed1e9b>\u001b[0m in \u001b[0;36m<module>\u001b[0;34m\u001b[0m\n\u001b[1;32m      8\u001b[0m \u001b[0;31m# params = [{'kernel': ['rbf'], 'gamma': 10. ** np.arange(-5, 5),'C': 10. ** np.arange(-2, 5)},{'kernel': ['linear'], 'C': 10. ** np.arange(-2, 5)}]\u001b[0m\u001b[0;34m\u001b[0m\u001b[0;34m\u001b[0m\u001b[0;34m\u001b[0m\u001b[0m\n\u001b[1;32m      9\u001b[0m \u001b[0;34m\u001b[0m\u001b[0m\n\u001b[0;32m---> 10\u001b[0;31m \u001b[0mreport_best_params\u001b[0m\u001b[0;34m(\u001b[0m\u001b[0mx_train\u001b[0m\u001b[0;34m,\u001b[0m \u001b[0my_train\u001b[0m\u001b[0;34m,\u001b[0m \u001b[0mparams\u001b[0m\u001b[0;34m,\u001b[0m \u001b[0mSVC\u001b[0m\u001b[0;34m(\u001b[0m\u001b[0;34m)\u001b[0m\u001b[0;34m,\u001b[0m \u001b[0;36m10\u001b[0m\u001b[0;34m)\u001b[0m\u001b[0;34m\u001b[0m\u001b[0;34m\u001b[0m\u001b[0m\n\u001b[0m",
      "\u001b[0;32m<ipython-input-7-76d61bc1f09e>\u001b[0m in \u001b[0;36mreport_best_params\u001b[0;34m(x_train, y_train, params, estimator, n_splits)\u001b[0m\n\u001b[1;32m     16\u001b[0m     \u001b[0mprint\u001b[0m\u001b[0;34m(\u001b[0m\u001b[0;34m\"The best classifier is: \"\u001b[0m\u001b[0;34m,\u001b[0m \u001b[0mgrid\u001b[0m\u001b[0;34m.\u001b[0m\u001b[0mbest_estimator_\u001b[0m\u001b[0;34m)\u001b[0m\u001b[0;34m\u001b[0m\u001b[0;34m\u001b[0m\u001b[0m\n\u001b[1;32m     17\u001b[0m \u001b[0;34m\u001b[0m\u001b[0m\n\u001b[0;32m---> 18\u001b[0;31m     \u001b[0mprint\u001b[0m\u001b[0;34m(\u001b[0m\u001b[0;34m\"The best parameters are: \"\u001b[0m \u001b[0;34m+\u001b[0m \u001b[0mgrid\u001b[0m\u001b[0;34m.\u001b[0m\u001b[0mbest_params_\u001b[0m\u001b[0;34m)\u001b[0m\u001b[0;34m\u001b[0m\u001b[0;34m\u001b[0m\u001b[0m\n\u001b[0m",
      "\u001b[0;31mTypeError\u001b[0m: can only concatenate str (not \"dict\") to str"
     ]
    }
   ],
   "source": [
    "from sklearn.svm import SVC\n",
    "\n",
    "#  define parameters to tune for svm     \n",
    "    # refine these as you go\n",
    "params = [{'kernel': ['rbf'], 'gamma': [0.1, 1, 100],'C': [0.1, 1, 100]}]\n",
    "\n",
    "# uncomment for better range\n",
    "# params = [{'kernel': ['rbf'], 'gamma': 10. ** np.arange(-5, 5),'C': 10. ** np.arange(-2, 5)},{'kernel': ['linear'], 'C': 10. ** np.arange(-2, 5)}]\n",
    "\n",
    "report_best_params(x_train, y_train, params, SVC(), 10)"
   ]
  },
  {
   "cell_type": "markdown",
   "metadata": {},
   "source": [
    "### D.3 SVM model with optimal parameters"
   ]
  },
  {
   "cell_type": "code",
   "execution_count": 9,
   "metadata": {},
   "outputs": [
    {
     "output_type": "execute_result",
     "data": {
      "text/plain": "SVC(C=0.1, cache_size=200, class_weight=None, coef0=0.0,\n    decision_function_shape='ovr', degree=3, gamma=0.1, kernel='rbf',\n    max_iter=-1, probability=False, random_state=None, shrinking=True,\n    tol=0.001, verbose=False)"
     },
     "metadata": {},
     "execution_count": 9
    }
   ],
   "source": [
    "kernel = \"rbf\"\n",
    "c = 0.1\n",
    "gamma = 0.1\n",
    "\n",
    "model = SVC(kernel=kernel, C=c, gamma=gamma)\n",
    "model.fit(x_train, y_train)"
   ]
  },
  {
   "cell_type": "markdown",
   "metadata": {},
   "source": [
    "### D.4 Making and evaluating predictions\n",
    "\n",
    "evaluate prediction using AUC score \n",
    "- AUC score: represents degree or measure of separability (ie. how well a model is able to distinguish between classes)\n",
    "    - area under the ROC curve (TPR and FPR are clearly separated)\n",
    "\n",
    "- scale-invariant. It measures how well predictions are ranked, rather than their absolute values.  \n",
    "    - note: not good if you need well calibrated outputs\n",
    "    \n",
    "- classification-threshold-invariant. It measures the quality of the model's predictions irrespective of what classification threshold is chosen.\n",
    "    - note: not be good if cost of FP and FN are significantly different"
   ]
  },
  {
   "cell_type": "code",
   "execution_count": 13,
   "metadata": {
    "tags": []
   },
   "outputs": [
    {
     "output_type": "stream",
     "name": "stdout",
     "text": "AUC score: 0.7750250452075597\n"
    },
    {
     "output_type": "display_data",
     "data": {
      "text/plain": "<Figure size 432x288 with 1 Axes>",
      "image/png": "[encoded data removed]"
     },
     "metadata": {
      "needs_background": "light"
     }
    }
   ],
   "source": [
    "import sklearn.metrics as metrics\n",
    "import matplotlib.pyplot as plt\n",
    "\n",
    "y_pred = model.predict(x_test)\n",
    "fpr, tpr, threshold = metrics.roc_curve(y_test, y_pred)\n",
    "roc_auc = metrics.auc(fpr, tpr)\n",
    "\n",
    "print(\"AUC score: \" + str(roc_auc))\n",
    "\n",
    "# evaluate prediction using ROC graph\n",
    "plt.title('ROC curve')\n",
    "plt.plot(fpr, tpr, 'b', label = 'AUC = %0.2f' % roc_auc)\n",
    "plt.legend(loc = 'lower right')\n",
    "plt.plot([0, 1], [0, 1],'r--')\n",
    "plt.xlim([0, 1])\n",
    "plt.ylim([0, 1])\n",
    "plt.ylabel('True Positive Rate')\n",
    "plt.xlabel('False Positive Rate')\n",
    "plt.show()"
   ]
  },
  {
   "cell_type": "code",
   "execution_count": null,
   "metadata": {},
   "outputs": [],
   "source": []
  }
 ]
}